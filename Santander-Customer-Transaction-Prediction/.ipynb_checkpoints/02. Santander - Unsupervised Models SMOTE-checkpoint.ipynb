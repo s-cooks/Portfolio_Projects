{
 "cells": [
  {
   "cell_type": "markdown",
   "metadata": {
    "toc": true
   },
   "source": [
    "<h1>Table of Contents<span class=\"tocSkip\"></span></h1>\n",
    "<div class=\"toc\"><ul class=\"toc-item\"><li><span><a href=\"#Unsupervised-models\" data-toc-modified-id=\"Unsupervised-models-1\"><span class=\"toc-item-num\">1&nbsp;&nbsp;</span>Unsupervised models</a></span><ul class=\"toc-item\"><li><span><a href=\"#Regularizing-Neural-Net-Classifier\" data-toc-modified-id=\"Regularizing-Neural-Net-Classifier-1.1\"><span class=\"toc-item-num\">1.1&nbsp;&nbsp;</span>Regularizing Neural Net Classifier</a></span><ul class=\"toc-item\"><li><span><a href=\"#Dropout\" data-toc-modified-id=\"Dropout-1.1.1\"><span class=\"toc-item-num\">1.1.1&nbsp;&nbsp;</span>Dropout</a></span></li></ul></li><li><span><a href=\"#Interpretation\" data-toc-modified-id=\"Interpretation-1.2\"><span class=\"toc-item-num\">1.2&nbsp;&nbsp;</span>Interpretation</a></span><ul class=\"toc-item\"><li><span><a href=\"#Early-Stopping\" data-toc-modified-id=\"Early-Stopping-1.2.1\"><span class=\"toc-item-num\">1.2.1&nbsp;&nbsp;</span>Early Stopping</a></span></li></ul></li><li><span><a href=\"#Interpretation\" data-toc-modified-id=\"Interpretation-1.3\"><span class=\"toc-item-num\">1.3&nbsp;&nbsp;</span>Interpretation</a></span></li><li><span><a href=\"#Summary-of-Models\" data-toc-modified-id=\"Summary-of-Models-1.4\"><span class=\"toc-item-num\">1.4&nbsp;&nbsp;</span>Summary of Models</a></span><ul class=\"toc-item\"><li><span><a href=\"#Predicting-a-Customer-Transaction-with-SMOTE:\" data-toc-modified-id=\"Predicting-a-Customer-Transaction-with-SMOTE:-1.4.1\"><span class=\"toc-item-num\">1.4.1&nbsp;&nbsp;</span>Predicting a Customer Transaction with SMOTE:</a></span></li></ul></li></ul></li></ul></div>"
   ]
  },
  {
   "cell_type": "code",
   "execution_count": 1,
   "metadata": {},
   "outputs": [],
   "source": [
    "import pandas as pd \n",
    "import numpy as np\n",
    "import seaborn as sns\n",
    "import matplotlib.pyplot as plt\n",
    "\n",
    "\n",
    "from sklearn.model_selection import train_test_split, cross_val_score\n",
    "from sklearn.preprocessing import StandardScaler\n",
    "from sklearn.metrics import classification_report, confusion_matrix\n",
    "\n",
    "from imblearn.pipeline import Pipeline\n",
    "# Import metrics.\n",
    "from sklearn.metrics import confusion_matrix, plot_confusion_matrix, accuracy_score, plot_roc_curve, roc_auc_score, recall_score, precision_score, f1_score"
   ]
  },
  {
   "cell_type": "markdown",
   "metadata": {},
   "source": [
    "Import data"
   ]
  },
  {
   "cell_type": "code",
   "execution_count": 2,
   "metadata": {},
   "outputs": [],
   "source": [
    "train = pd.read_csv('./train.csv')\n",
    "test = pd.read_csv('./test.csv')"
   ]
  },
  {
   "cell_type": "markdown",
   "metadata": {},
   "source": [
    "Inital check of datasets"
   ]
  },
  {
   "cell_type": "code",
   "execution_count": 3,
   "metadata": {
    "scrolled": true
   },
   "outputs": [
    {
     "data": {
      "text/html": [
       "<div>\n",
       "<style scoped>\n",
       "    .dataframe tbody tr th:only-of-type {\n",
       "        vertical-align: middle;\n",
       "    }\n",
       "\n",
       "    .dataframe tbody tr th {\n",
       "        vertical-align: top;\n",
       "    }\n",
       "\n",
       "    .dataframe thead th {\n",
       "        text-align: right;\n",
       "    }\n",
       "</style>\n",
       "<table border=\"1\" class=\"dataframe\">\n",
       "  <thead>\n",
       "    <tr style=\"text-align: right;\">\n",
       "      <th></th>\n",
       "      <th>ID_code</th>\n",
       "      <th>target</th>\n",
       "      <th>var_0</th>\n",
       "      <th>var_1</th>\n",
       "      <th>var_2</th>\n",
       "      <th>var_3</th>\n",
       "      <th>var_4</th>\n",
       "      <th>var_5</th>\n",
       "      <th>var_6</th>\n",
       "      <th>var_7</th>\n",
       "      <th>...</th>\n",
       "      <th>var_190</th>\n",
       "      <th>var_191</th>\n",
       "      <th>var_192</th>\n",
       "      <th>var_193</th>\n",
       "      <th>var_194</th>\n",
       "      <th>var_195</th>\n",
       "      <th>var_196</th>\n",
       "      <th>var_197</th>\n",
       "      <th>var_198</th>\n",
       "      <th>var_199</th>\n",
       "    </tr>\n",
       "  </thead>\n",
       "  <tbody>\n",
       "    <tr>\n",
       "      <th>0</th>\n",
       "      <td>train_0</td>\n",
       "      <td>0</td>\n",
       "      <td>8.9255</td>\n",
       "      <td>-6.7863</td>\n",
       "      <td>11.9081</td>\n",
       "      <td>5.0930</td>\n",
       "      <td>11.4607</td>\n",
       "      <td>-9.2834</td>\n",
       "      <td>5.1187</td>\n",
       "      <td>18.6266</td>\n",
       "      <td>...</td>\n",
       "      <td>4.4354</td>\n",
       "      <td>3.9642</td>\n",
       "      <td>3.1364</td>\n",
       "      <td>1.6910</td>\n",
       "      <td>18.5227</td>\n",
       "      <td>-2.3978</td>\n",
       "      <td>7.8784</td>\n",
       "      <td>8.5635</td>\n",
       "      <td>12.7803</td>\n",
       "      <td>-1.0914</td>\n",
       "    </tr>\n",
       "    <tr>\n",
       "      <th>1</th>\n",
       "      <td>train_1</td>\n",
       "      <td>0</td>\n",
       "      <td>11.5006</td>\n",
       "      <td>-4.1473</td>\n",
       "      <td>13.8588</td>\n",
       "      <td>5.3890</td>\n",
       "      <td>12.3622</td>\n",
       "      <td>7.0433</td>\n",
       "      <td>5.6208</td>\n",
       "      <td>16.5338</td>\n",
       "      <td>...</td>\n",
       "      <td>7.6421</td>\n",
       "      <td>7.7214</td>\n",
       "      <td>2.5837</td>\n",
       "      <td>10.9516</td>\n",
       "      <td>15.4305</td>\n",
       "      <td>2.0339</td>\n",
       "      <td>8.1267</td>\n",
       "      <td>8.7889</td>\n",
       "      <td>18.3560</td>\n",
       "      <td>1.9518</td>\n",
       "    </tr>\n",
       "    <tr>\n",
       "      <th>2</th>\n",
       "      <td>train_2</td>\n",
       "      <td>0</td>\n",
       "      <td>8.6093</td>\n",
       "      <td>-2.7457</td>\n",
       "      <td>12.0805</td>\n",
       "      <td>7.8928</td>\n",
       "      <td>10.5825</td>\n",
       "      <td>-9.0837</td>\n",
       "      <td>6.9427</td>\n",
       "      <td>14.6155</td>\n",
       "      <td>...</td>\n",
       "      <td>2.9057</td>\n",
       "      <td>9.7905</td>\n",
       "      <td>1.6704</td>\n",
       "      <td>1.6858</td>\n",
       "      <td>21.6042</td>\n",
       "      <td>3.1417</td>\n",
       "      <td>-6.5213</td>\n",
       "      <td>8.2675</td>\n",
       "      <td>14.7222</td>\n",
       "      <td>0.3965</td>\n",
       "    </tr>\n",
       "    <tr>\n",
       "      <th>3</th>\n",
       "      <td>train_3</td>\n",
       "      <td>0</td>\n",
       "      <td>11.0604</td>\n",
       "      <td>-2.1518</td>\n",
       "      <td>8.9522</td>\n",
       "      <td>7.1957</td>\n",
       "      <td>12.5846</td>\n",
       "      <td>-1.8361</td>\n",
       "      <td>5.8428</td>\n",
       "      <td>14.9250</td>\n",
       "      <td>...</td>\n",
       "      <td>4.4666</td>\n",
       "      <td>4.7433</td>\n",
       "      <td>0.7178</td>\n",
       "      <td>1.4214</td>\n",
       "      <td>23.0347</td>\n",
       "      <td>-1.2706</td>\n",
       "      <td>-2.9275</td>\n",
       "      <td>10.2922</td>\n",
       "      <td>17.9697</td>\n",
       "      <td>-8.9996</td>\n",
       "    </tr>\n",
       "    <tr>\n",
       "      <th>4</th>\n",
       "      <td>train_4</td>\n",
       "      <td>0</td>\n",
       "      <td>9.8369</td>\n",
       "      <td>-1.4834</td>\n",
       "      <td>12.8746</td>\n",
       "      <td>6.6375</td>\n",
       "      <td>12.2772</td>\n",
       "      <td>2.4486</td>\n",
       "      <td>5.9405</td>\n",
       "      <td>19.2514</td>\n",
       "      <td>...</td>\n",
       "      <td>-1.4905</td>\n",
       "      <td>9.5214</td>\n",
       "      <td>-0.1508</td>\n",
       "      <td>9.1942</td>\n",
       "      <td>13.2876</td>\n",
       "      <td>-1.5121</td>\n",
       "      <td>3.9267</td>\n",
       "      <td>9.5031</td>\n",
       "      <td>17.9974</td>\n",
       "      <td>-8.8104</td>\n",
       "    </tr>\n",
       "  </tbody>\n",
       "</table>\n",
       "<p>5 rows × 202 columns</p>\n",
       "</div>"
      ],
      "text/plain": [
       "   ID_code  target    var_0   var_1    var_2   var_3    var_4   var_5   var_6  \\\n",
       "0  train_0       0   8.9255 -6.7863  11.9081  5.0930  11.4607 -9.2834  5.1187   \n",
       "1  train_1       0  11.5006 -4.1473  13.8588  5.3890  12.3622  7.0433  5.6208   \n",
       "2  train_2       0   8.6093 -2.7457  12.0805  7.8928  10.5825 -9.0837  6.9427   \n",
       "3  train_3       0  11.0604 -2.1518   8.9522  7.1957  12.5846 -1.8361  5.8428   \n",
       "4  train_4       0   9.8369 -1.4834  12.8746  6.6375  12.2772  2.4486  5.9405   \n",
       "\n",
       "     var_7  ...  var_190  var_191  var_192  var_193  var_194  var_195  \\\n",
       "0  18.6266  ...   4.4354   3.9642   3.1364   1.6910  18.5227  -2.3978   \n",
       "1  16.5338  ...   7.6421   7.7214   2.5837  10.9516  15.4305   2.0339   \n",
       "2  14.6155  ...   2.9057   9.7905   1.6704   1.6858  21.6042   3.1417   \n",
       "3  14.9250  ...   4.4666   4.7433   0.7178   1.4214  23.0347  -1.2706   \n",
       "4  19.2514  ...  -1.4905   9.5214  -0.1508   9.1942  13.2876  -1.5121   \n",
       "\n",
       "   var_196  var_197  var_198  var_199  \n",
       "0   7.8784   8.5635  12.7803  -1.0914  \n",
       "1   8.1267   8.7889  18.3560   1.9518  \n",
       "2  -6.5213   8.2675  14.7222   0.3965  \n",
       "3  -2.9275  10.2922  17.9697  -8.9996  \n",
       "4   3.9267   9.5031  17.9974  -8.8104  \n",
       "\n",
       "[5 rows x 202 columns]"
      ]
     },
     "execution_count": 3,
     "metadata": {},
     "output_type": "execute_result"
    }
   ],
   "source": [
    "train.head()"
   ]
  },
  {
   "cell_type": "code",
   "execution_count": 4,
   "metadata": {},
   "outputs": [
    {
     "data": {
      "text/html": [
       "<div>\n",
       "<style scoped>\n",
       "    .dataframe tbody tr th:only-of-type {\n",
       "        vertical-align: middle;\n",
       "    }\n",
       "\n",
       "    .dataframe tbody tr th {\n",
       "        vertical-align: top;\n",
       "    }\n",
       "\n",
       "    .dataframe thead th {\n",
       "        text-align: right;\n",
       "    }\n",
       "</style>\n",
       "<table border=\"1\" class=\"dataframe\">\n",
       "  <thead>\n",
       "    <tr style=\"text-align: right;\">\n",
       "      <th></th>\n",
       "      <th>ID_code</th>\n",
       "      <th>var_0</th>\n",
       "      <th>var_1</th>\n",
       "      <th>var_2</th>\n",
       "      <th>var_3</th>\n",
       "      <th>var_4</th>\n",
       "      <th>var_5</th>\n",
       "      <th>var_6</th>\n",
       "      <th>var_7</th>\n",
       "      <th>var_8</th>\n",
       "      <th>...</th>\n",
       "      <th>var_190</th>\n",
       "      <th>var_191</th>\n",
       "      <th>var_192</th>\n",
       "      <th>var_193</th>\n",
       "      <th>var_194</th>\n",
       "      <th>var_195</th>\n",
       "      <th>var_196</th>\n",
       "      <th>var_197</th>\n",
       "      <th>var_198</th>\n",
       "      <th>var_199</th>\n",
       "    </tr>\n",
       "  </thead>\n",
       "  <tbody>\n",
       "    <tr>\n",
       "      <th>0</th>\n",
       "      <td>test_0</td>\n",
       "      <td>11.0656</td>\n",
       "      <td>7.7798</td>\n",
       "      <td>12.9536</td>\n",
       "      <td>9.4292</td>\n",
       "      <td>11.4327</td>\n",
       "      <td>-2.3805</td>\n",
       "      <td>5.8493</td>\n",
       "      <td>18.2675</td>\n",
       "      <td>2.1337</td>\n",
       "      <td>...</td>\n",
       "      <td>-2.1556</td>\n",
       "      <td>11.8495</td>\n",
       "      <td>-1.4300</td>\n",
       "      <td>2.4508</td>\n",
       "      <td>13.7112</td>\n",
       "      <td>2.4669</td>\n",
       "      <td>4.3654</td>\n",
       "      <td>10.7200</td>\n",
       "      <td>15.4722</td>\n",
       "      <td>-8.7197</td>\n",
       "    </tr>\n",
       "    <tr>\n",
       "      <th>1</th>\n",
       "      <td>test_1</td>\n",
       "      <td>8.5304</td>\n",
       "      <td>1.2543</td>\n",
       "      <td>11.3047</td>\n",
       "      <td>5.1858</td>\n",
       "      <td>9.1974</td>\n",
       "      <td>-4.0117</td>\n",
       "      <td>6.0196</td>\n",
       "      <td>18.6316</td>\n",
       "      <td>-4.4131</td>\n",
       "      <td>...</td>\n",
       "      <td>10.6165</td>\n",
       "      <td>8.8349</td>\n",
       "      <td>0.9403</td>\n",
       "      <td>10.1282</td>\n",
       "      <td>15.5765</td>\n",
       "      <td>0.4773</td>\n",
       "      <td>-1.4852</td>\n",
       "      <td>9.8714</td>\n",
       "      <td>19.1293</td>\n",
       "      <td>-20.9760</td>\n",
       "    </tr>\n",
       "    <tr>\n",
       "      <th>2</th>\n",
       "      <td>test_2</td>\n",
       "      <td>5.4827</td>\n",
       "      <td>-10.3581</td>\n",
       "      <td>10.1407</td>\n",
       "      <td>7.0479</td>\n",
       "      <td>10.2628</td>\n",
       "      <td>9.8052</td>\n",
       "      <td>4.8950</td>\n",
       "      <td>20.2537</td>\n",
       "      <td>1.5233</td>\n",
       "      <td>...</td>\n",
       "      <td>-0.7484</td>\n",
       "      <td>10.9935</td>\n",
       "      <td>1.9803</td>\n",
       "      <td>2.1800</td>\n",
       "      <td>12.9813</td>\n",
       "      <td>2.1281</td>\n",
       "      <td>-7.1086</td>\n",
       "      <td>7.0618</td>\n",
       "      <td>19.8956</td>\n",
       "      <td>-23.1794</td>\n",
       "    </tr>\n",
       "    <tr>\n",
       "      <th>3</th>\n",
       "      <td>test_3</td>\n",
       "      <td>8.5374</td>\n",
       "      <td>-1.3222</td>\n",
       "      <td>12.0220</td>\n",
       "      <td>6.5749</td>\n",
       "      <td>8.8458</td>\n",
       "      <td>3.1744</td>\n",
       "      <td>4.9397</td>\n",
       "      <td>20.5660</td>\n",
       "      <td>3.3755</td>\n",
       "      <td>...</td>\n",
       "      <td>9.5702</td>\n",
       "      <td>9.0766</td>\n",
       "      <td>1.6580</td>\n",
       "      <td>3.5813</td>\n",
       "      <td>15.1874</td>\n",
       "      <td>3.1656</td>\n",
       "      <td>3.9567</td>\n",
       "      <td>9.2295</td>\n",
       "      <td>13.0168</td>\n",
       "      <td>-4.2108</td>\n",
       "    </tr>\n",
       "    <tr>\n",
       "      <th>4</th>\n",
       "      <td>test_4</td>\n",
       "      <td>11.7058</td>\n",
       "      <td>-0.1327</td>\n",
       "      <td>14.1295</td>\n",
       "      <td>7.7506</td>\n",
       "      <td>9.1035</td>\n",
       "      <td>-8.5848</td>\n",
       "      <td>6.8595</td>\n",
       "      <td>10.6048</td>\n",
       "      <td>2.9890</td>\n",
       "      <td>...</td>\n",
       "      <td>4.2259</td>\n",
       "      <td>9.1723</td>\n",
       "      <td>1.2835</td>\n",
       "      <td>3.3778</td>\n",
       "      <td>19.5542</td>\n",
       "      <td>-0.2860</td>\n",
       "      <td>-5.1612</td>\n",
       "      <td>7.2882</td>\n",
       "      <td>13.9260</td>\n",
       "      <td>-9.1846</td>\n",
       "    </tr>\n",
       "  </tbody>\n",
       "</table>\n",
       "<p>5 rows × 201 columns</p>\n",
       "</div>"
      ],
      "text/plain": [
       "  ID_code    var_0    var_1    var_2   var_3    var_4   var_5   var_6  \\\n",
       "0  test_0  11.0656   7.7798  12.9536  9.4292  11.4327 -2.3805  5.8493   \n",
       "1  test_1   8.5304   1.2543  11.3047  5.1858   9.1974 -4.0117  6.0196   \n",
       "2  test_2   5.4827 -10.3581  10.1407  7.0479  10.2628  9.8052  4.8950   \n",
       "3  test_3   8.5374  -1.3222  12.0220  6.5749   8.8458  3.1744  4.9397   \n",
       "4  test_4  11.7058  -0.1327  14.1295  7.7506   9.1035 -8.5848  6.8595   \n",
       "\n",
       "     var_7   var_8  ...  var_190  var_191  var_192  var_193  var_194  var_195  \\\n",
       "0  18.2675  2.1337  ...  -2.1556  11.8495  -1.4300   2.4508  13.7112   2.4669   \n",
       "1  18.6316 -4.4131  ...  10.6165   8.8349   0.9403  10.1282  15.5765   0.4773   \n",
       "2  20.2537  1.5233  ...  -0.7484  10.9935   1.9803   2.1800  12.9813   2.1281   \n",
       "3  20.5660  3.3755  ...   9.5702   9.0766   1.6580   3.5813  15.1874   3.1656   \n",
       "4  10.6048  2.9890  ...   4.2259   9.1723   1.2835   3.3778  19.5542  -0.2860   \n",
       "\n",
       "   var_196  var_197  var_198  var_199  \n",
       "0   4.3654  10.7200  15.4722  -8.7197  \n",
       "1  -1.4852   9.8714  19.1293 -20.9760  \n",
       "2  -7.1086   7.0618  19.8956 -23.1794  \n",
       "3   3.9567   9.2295  13.0168  -4.2108  \n",
       "4  -5.1612   7.2882  13.9260  -9.1846  \n",
       "\n",
       "[5 rows x 201 columns]"
      ]
     },
     "execution_count": 4,
     "metadata": {},
     "output_type": "execute_result"
    }
   ],
   "source": [
    "test.head()"
   ]
  },
  {
   "cell_type": "code",
   "execution_count": 5,
   "metadata": {},
   "outputs": [
    {
     "data": {
      "text/plain": [
       "(200000, 202)"
      ]
     },
     "execution_count": 5,
     "metadata": {},
     "output_type": "execute_result"
    }
   ],
   "source": [
    "train.shape"
   ]
  },
  {
   "cell_type": "code",
   "execution_count": 6,
   "metadata": {},
   "outputs": [
    {
     "data": {
      "text/plain": [
       "(200000, 201)"
      ]
     },
     "execution_count": 6,
     "metadata": {},
     "output_type": "execute_result"
    }
   ],
   "source": [
    "test.shape"
   ]
  },
  {
   "cell_type": "code",
   "execution_count": 7,
   "metadata": {},
   "outputs": [
    {
     "data": {
      "text/plain": [
       "0"
      ]
     },
     "execution_count": 7,
     "metadata": {},
     "output_type": "execute_result"
    }
   ],
   "source": [
    "train.isnull().sum().sum()"
   ]
  },
  {
   "cell_type": "code",
   "execution_count": 8,
   "metadata": {},
   "outputs": [
    {
     "data": {
      "text/plain": [
       "0"
      ]
     },
     "execution_count": 8,
     "metadata": {},
     "output_type": "execute_result"
    }
   ],
   "source": [
    "test.isnull().sum().sum()"
   ]
  },
  {
   "cell_type": "code",
   "execution_count": 9,
   "metadata": {},
   "outputs": [
    {
     "data": {
      "text/plain": [
       "ID_code     object\n",
       "target       int64\n",
       "var_0      float64\n",
       "var_1      float64\n",
       "var_2      float64\n",
       "            ...   \n",
       "var_195    float64\n",
       "var_196    float64\n",
       "var_197    float64\n",
       "var_198    float64\n",
       "var_199    float64\n",
       "Length: 202, dtype: object"
      ]
     },
     "execution_count": 9,
     "metadata": {},
     "output_type": "execute_result"
    }
   ],
   "source": [
    "train.dtypes"
   ]
  },
  {
   "cell_type": "code",
   "execution_count": 10,
   "metadata": {},
   "outputs": [
    {
     "data": {
      "text/plain": [
       "ID_code     object\n",
       "var_0      float64\n",
       "var_1      float64\n",
       "var_2      float64\n",
       "var_3      float64\n",
       "            ...   \n",
       "var_195    float64\n",
       "var_196    float64\n",
       "var_197    float64\n",
       "var_198    float64\n",
       "var_199    float64\n",
       "Length: 201, dtype: object"
      ]
     },
     "execution_count": 10,
     "metadata": {},
     "output_type": "execute_result"
    }
   ],
   "source": [
    "test.dtypes"
   ]
  },
  {
   "cell_type": "code",
   "execution_count": 11,
   "metadata": {},
   "outputs": [
    {
     "name": "stdout",
     "output_type": "stream",
     "text": [
      "<class 'pandas.core.frame.DataFrame'>\n",
      "RangeIndex: 200000 entries, 0 to 199999\n",
      "Columns: 202 entries, ID_code to var_199\n",
      "dtypes: float64(200), int64(1), object(1)\n",
      "memory usage: 308.2+ MB\n"
     ]
    }
   ],
   "source": [
    "train.info()"
   ]
  },
  {
   "cell_type": "code",
   "execution_count": 12,
   "metadata": {},
   "outputs": [
    {
     "name": "stdout",
     "output_type": "stream",
     "text": [
      "<class 'pandas.core.frame.DataFrame'>\n",
      "RangeIndex: 200000 entries, 0 to 199999\n",
      "Columns: 201 entries, ID_code to var_199\n",
      "dtypes: float64(200), object(1)\n",
      "memory usage: 306.7+ MB\n"
     ]
    }
   ],
   "source": [
    "test.info()"
   ]
  },
  {
   "cell_type": "code",
   "execution_count": 13,
   "metadata": {
    "scrolled": true
   },
   "outputs": [
    {
     "data": {
      "text/html": [
       "<div>\n",
       "<style scoped>\n",
       "    .dataframe tbody tr th:only-of-type {\n",
       "        vertical-align: middle;\n",
       "    }\n",
       "\n",
       "    .dataframe tbody tr th {\n",
       "        vertical-align: top;\n",
       "    }\n",
       "\n",
       "    .dataframe thead th {\n",
       "        text-align: right;\n",
       "    }\n",
       "</style>\n",
       "<table border=\"1\" class=\"dataframe\">\n",
       "  <thead>\n",
       "    <tr style=\"text-align: right;\">\n",
       "      <th></th>\n",
       "      <th>target</th>\n",
       "      <th>var_0</th>\n",
       "      <th>var_1</th>\n",
       "      <th>var_2</th>\n",
       "      <th>var_3</th>\n",
       "      <th>var_4</th>\n",
       "      <th>var_5</th>\n",
       "      <th>var_6</th>\n",
       "      <th>var_7</th>\n",
       "      <th>var_8</th>\n",
       "      <th>...</th>\n",
       "      <th>var_190</th>\n",
       "      <th>var_191</th>\n",
       "      <th>var_192</th>\n",
       "      <th>var_193</th>\n",
       "      <th>var_194</th>\n",
       "      <th>var_195</th>\n",
       "      <th>var_196</th>\n",
       "      <th>var_197</th>\n",
       "      <th>var_198</th>\n",
       "      <th>var_199</th>\n",
       "    </tr>\n",
       "  </thead>\n",
       "  <tbody>\n",
       "    <tr>\n",
       "      <th>count</th>\n",
       "      <td>200000.000000</td>\n",
       "      <td>200000.000000</td>\n",
       "      <td>200000.000000</td>\n",
       "      <td>200000.000000</td>\n",
       "      <td>200000.000000</td>\n",
       "      <td>200000.000000</td>\n",
       "      <td>200000.000000</td>\n",
       "      <td>200000.000000</td>\n",
       "      <td>200000.000000</td>\n",
       "      <td>200000.000000</td>\n",
       "      <td>...</td>\n",
       "      <td>200000.000000</td>\n",
       "      <td>200000.000000</td>\n",
       "      <td>200000.000000</td>\n",
       "      <td>200000.000000</td>\n",
       "      <td>200000.000000</td>\n",
       "      <td>200000.000000</td>\n",
       "      <td>200000.000000</td>\n",
       "      <td>200000.000000</td>\n",
       "      <td>200000.000000</td>\n",
       "      <td>200000.000000</td>\n",
       "    </tr>\n",
       "    <tr>\n",
       "      <th>mean</th>\n",
       "      <td>0.100490</td>\n",
       "      <td>10.679914</td>\n",
       "      <td>-1.627622</td>\n",
       "      <td>10.715192</td>\n",
       "      <td>6.796529</td>\n",
       "      <td>11.078333</td>\n",
       "      <td>-5.065317</td>\n",
       "      <td>5.408949</td>\n",
       "      <td>16.545850</td>\n",
       "      <td>0.284162</td>\n",
       "      <td>...</td>\n",
       "      <td>3.234440</td>\n",
       "      <td>7.438408</td>\n",
       "      <td>1.927839</td>\n",
       "      <td>3.331774</td>\n",
       "      <td>17.993784</td>\n",
       "      <td>-0.142088</td>\n",
       "      <td>2.303335</td>\n",
       "      <td>8.908158</td>\n",
       "      <td>15.870720</td>\n",
       "      <td>-3.326537</td>\n",
       "    </tr>\n",
       "    <tr>\n",
       "      <th>std</th>\n",
       "      <td>0.300653</td>\n",
       "      <td>3.040051</td>\n",
       "      <td>4.050044</td>\n",
       "      <td>2.640894</td>\n",
       "      <td>2.043319</td>\n",
       "      <td>1.623150</td>\n",
       "      <td>7.863267</td>\n",
       "      <td>0.866607</td>\n",
       "      <td>3.418076</td>\n",
       "      <td>3.332634</td>\n",
       "      <td>...</td>\n",
       "      <td>4.559922</td>\n",
       "      <td>3.023272</td>\n",
       "      <td>1.478423</td>\n",
       "      <td>3.992030</td>\n",
       "      <td>3.135162</td>\n",
       "      <td>1.429372</td>\n",
       "      <td>5.454369</td>\n",
       "      <td>0.921625</td>\n",
       "      <td>3.010945</td>\n",
       "      <td>10.438015</td>\n",
       "    </tr>\n",
       "    <tr>\n",
       "      <th>min</th>\n",
       "      <td>0.000000</td>\n",
       "      <td>0.408400</td>\n",
       "      <td>-15.043400</td>\n",
       "      <td>2.117100</td>\n",
       "      <td>-0.040200</td>\n",
       "      <td>5.074800</td>\n",
       "      <td>-32.562600</td>\n",
       "      <td>2.347300</td>\n",
       "      <td>5.349700</td>\n",
       "      <td>-10.505500</td>\n",
       "      <td>...</td>\n",
       "      <td>-14.093300</td>\n",
       "      <td>-2.691700</td>\n",
       "      <td>-3.814500</td>\n",
       "      <td>-11.783400</td>\n",
       "      <td>8.694400</td>\n",
       "      <td>-5.261000</td>\n",
       "      <td>-14.209600</td>\n",
       "      <td>5.960600</td>\n",
       "      <td>6.299300</td>\n",
       "      <td>-38.852800</td>\n",
       "    </tr>\n",
       "    <tr>\n",
       "      <th>25%</th>\n",
       "      <td>0.000000</td>\n",
       "      <td>8.453850</td>\n",
       "      <td>-4.740025</td>\n",
       "      <td>8.722475</td>\n",
       "      <td>5.254075</td>\n",
       "      <td>9.883175</td>\n",
       "      <td>-11.200350</td>\n",
       "      <td>4.767700</td>\n",
       "      <td>13.943800</td>\n",
       "      <td>-2.317800</td>\n",
       "      <td>...</td>\n",
       "      <td>-0.058825</td>\n",
       "      <td>5.157400</td>\n",
       "      <td>0.889775</td>\n",
       "      <td>0.584600</td>\n",
       "      <td>15.629800</td>\n",
       "      <td>-1.170700</td>\n",
       "      <td>-1.946925</td>\n",
       "      <td>8.252800</td>\n",
       "      <td>13.829700</td>\n",
       "      <td>-11.208475</td>\n",
       "    </tr>\n",
       "    <tr>\n",
       "      <th>50%</th>\n",
       "      <td>0.000000</td>\n",
       "      <td>10.524750</td>\n",
       "      <td>-1.608050</td>\n",
       "      <td>10.580000</td>\n",
       "      <td>6.825000</td>\n",
       "      <td>11.108250</td>\n",
       "      <td>-4.833150</td>\n",
       "      <td>5.385100</td>\n",
       "      <td>16.456800</td>\n",
       "      <td>0.393700</td>\n",
       "      <td>...</td>\n",
       "      <td>3.203600</td>\n",
       "      <td>7.347750</td>\n",
       "      <td>1.901300</td>\n",
       "      <td>3.396350</td>\n",
       "      <td>17.957950</td>\n",
       "      <td>-0.172700</td>\n",
       "      <td>2.408900</td>\n",
       "      <td>8.888200</td>\n",
       "      <td>15.934050</td>\n",
       "      <td>-2.819550</td>\n",
       "    </tr>\n",
       "    <tr>\n",
       "      <th>75%</th>\n",
       "      <td>0.000000</td>\n",
       "      <td>12.758200</td>\n",
       "      <td>1.358625</td>\n",
       "      <td>12.516700</td>\n",
       "      <td>8.324100</td>\n",
       "      <td>12.261125</td>\n",
       "      <td>0.924800</td>\n",
       "      <td>6.003000</td>\n",
       "      <td>19.102900</td>\n",
       "      <td>2.937900</td>\n",
       "      <td>...</td>\n",
       "      <td>6.406200</td>\n",
       "      <td>9.512525</td>\n",
       "      <td>2.949500</td>\n",
       "      <td>6.205800</td>\n",
       "      <td>20.396525</td>\n",
       "      <td>0.829600</td>\n",
       "      <td>6.556725</td>\n",
       "      <td>9.593300</td>\n",
       "      <td>18.064725</td>\n",
       "      <td>4.836800</td>\n",
       "    </tr>\n",
       "    <tr>\n",
       "      <th>max</th>\n",
       "      <td>1.000000</td>\n",
       "      <td>20.315000</td>\n",
       "      <td>10.376800</td>\n",
       "      <td>19.353000</td>\n",
       "      <td>13.188300</td>\n",
       "      <td>16.671400</td>\n",
       "      <td>17.251600</td>\n",
       "      <td>8.447700</td>\n",
       "      <td>27.691800</td>\n",
       "      <td>10.151300</td>\n",
       "      <td>...</td>\n",
       "      <td>18.440900</td>\n",
       "      <td>16.716500</td>\n",
       "      <td>8.402400</td>\n",
       "      <td>18.281800</td>\n",
       "      <td>27.928800</td>\n",
       "      <td>4.272900</td>\n",
       "      <td>18.321500</td>\n",
       "      <td>12.000400</td>\n",
       "      <td>26.079100</td>\n",
       "      <td>28.500700</td>\n",
       "    </tr>\n",
       "  </tbody>\n",
       "</table>\n",
       "<p>8 rows × 201 columns</p>\n",
       "</div>"
      ],
      "text/plain": [
       "              target          var_0          var_1          var_2  \\\n",
       "count  200000.000000  200000.000000  200000.000000  200000.000000   \n",
       "mean        0.100490      10.679914      -1.627622      10.715192   \n",
       "std         0.300653       3.040051       4.050044       2.640894   \n",
       "min         0.000000       0.408400     -15.043400       2.117100   \n",
       "25%         0.000000       8.453850      -4.740025       8.722475   \n",
       "50%         0.000000      10.524750      -1.608050      10.580000   \n",
       "75%         0.000000      12.758200       1.358625      12.516700   \n",
       "max         1.000000      20.315000      10.376800      19.353000   \n",
       "\n",
       "               var_3          var_4          var_5          var_6  \\\n",
       "count  200000.000000  200000.000000  200000.000000  200000.000000   \n",
       "mean        6.796529      11.078333      -5.065317       5.408949   \n",
       "std         2.043319       1.623150       7.863267       0.866607   \n",
       "min        -0.040200       5.074800     -32.562600       2.347300   \n",
       "25%         5.254075       9.883175     -11.200350       4.767700   \n",
       "50%         6.825000      11.108250      -4.833150       5.385100   \n",
       "75%         8.324100      12.261125       0.924800       6.003000   \n",
       "max        13.188300      16.671400      17.251600       8.447700   \n",
       "\n",
       "               var_7          var_8  ...        var_190        var_191  \\\n",
       "count  200000.000000  200000.000000  ...  200000.000000  200000.000000   \n",
       "mean       16.545850       0.284162  ...       3.234440       7.438408   \n",
       "std         3.418076       3.332634  ...       4.559922       3.023272   \n",
       "min         5.349700     -10.505500  ...     -14.093300      -2.691700   \n",
       "25%        13.943800      -2.317800  ...      -0.058825       5.157400   \n",
       "50%        16.456800       0.393700  ...       3.203600       7.347750   \n",
       "75%        19.102900       2.937900  ...       6.406200       9.512525   \n",
       "max        27.691800      10.151300  ...      18.440900      16.716500   \n",
       "\n",
       "             var_192        var_193        var_194        var_195  \\\n",
       "count  200000.000000  200000.000000  200000.000000  200000.000000   \n",
       "mean        1.927839       3.331774      17.993784      -0.142088   \n",
       "std         1.478423       3.992030       3.135162       1.429372   \n",
       "min        -3.814500     -11.783400       8.694400      -5.261000   \n",
       "25%         0.889775       0.584600      15.629800      -1.170700   \n",
       "50%         1.901300       3.396350      17.957950      -0.172700   \n",
       "75%         2.949500       6.205800      20.396525       0.829600   \n",
       "max         8.402400      18.281800      27.928800       4.272900   \n",
       "\n",
       "             var_196        var_197        var_198        var_199  \n",
       "count  200000.000000  200000.000000  200000.000000  200000.000000  \n",
       "mean        2.303335       8.908158      15.870720      -3.326537  \n",
       "std         5.454369       0.921625       3.010945      10.438015  \n",
       "min       -14.209600       5.960600       6.299300     -38.852800  \n",
       "25%        -1.946925       8.252800      13.829700     -11.208475  \n",
       "50%         2.408900       8.888200      15.934050      -2.819550  \n",
       "75%         6.556725       9.593300      18.064725       4.836800  \n",
       "max        18.321500      12.000400      26.079100      28.500700  \n",
       "\n",
       "[8 rows x 201 columns]"
      ]
     },
     "execution_count": 13,
     "metadata": {},
     "output_type": "execute_result"
    }
   ],
   "source": [
    "train.describe()"
   ]
  },
  {
   "cell_type": "code",
   "execution_count": 14,
   "metadata": {},
   "outputs": [
    {
     "data": {
      "text/html": [
       "<div>\n",
       "<style scoped>\n",
       "    .dataframe tbody tr th:only-of-type {\n",
       "        vertical-align: middle;\n",
       "    }\n",
       "\n",
       "    .dataframe tbody tr th {\n",
       "        vertical-align: top;\n",
       "    }\n",
       "\n",
       "    .dataframe thead th {\n",
       "        text-align: right;\n",
       "    }\n",
       "</style>\n",
       "<table border=\"1\" class=\"dataframe\">\n",
       "  <thead>\n",
       "    <tr style=\"text-align: right;\">\n",
       "      <th></th>\n",
       "      <th>var_0</th>\n",
       "      <th>var_1</th>\n",
       "      <th>var_2</th>\n",
       "      <th>var_3</th>\n",
       "      <th>var_4</th>\n",
       "      <th>var_5</th>\n",
       "      <th>var_6</th>\n",
       "      <th>var_7</th>\n",
       "      <th>var_8</th>\n",
       "      <th>var_9</th>\n",
       "      <th>...</th>\n",
       "      <th>var_190</th>\n",
       "      <th>var_191</th>\n",
       "      <th>var_192</th>\n",
       "      <th>var_193</th>\n",
       "      <th>var_194</th>\n",
       "      <th>var_195</th>\n",
       "      <th>var_196</th>\n",
       "      <th>var_197</th>\n",
       "      <th>var_198</th>\n",
       "      <th>var_199</th>\n",
       "    </tr>\n",
       "  </thead>\n",
       "  <tbody>\n",
       "    <tr>\n",
       "      <th>count</th>\n",
       "      <td>200000.000000</td>\n",
       "      <td>200000.000000</td>\n",
       "      <td>200000.000000</td>\n",
       "      <td>200000.000000</td>\n",
       "      <td>200000.000000</td>\n",
       "      <td>200000.000000</td>\n",
       "      <td>200000.000000</td>\n",
       "      <td>200000.000000</td>\n",
       "      <td>200000.000000</td>\n",
       "      <td>200000.000000</td>\n",
       "      <td>...</td>\n",
       "      <td>200000.000000</td>\n",
       "      <td>200000.000000</td>\n",
       "      <td>200000.000000</td>\n",
       "      <td>200000.000000</td>\n",
       "      <td>200000.000000</td>\n",
       "      <td>200000.000000</td>\n",
       "      <td>200000.000000</td>\n",
       "      <td>200000.000000</td>\n",
       "      <td>200000.000000</td>\n",
       "      <td>200000.000000</td>\n",
       "    </tr>\n",
       "    <tr>\n",
       "      <th>mean</th>\n",
       "      <td>10.658737</td>\n",
       "      <td>-1.624244</td>\n",
       "      <td>10.707452</td>\n",
       "      <td>6.788214</td>\n",
       "      <td>11.076399</td>\n",
       "      <td>-5.050558</td>\n",
       "      <td>5.415164</td>\n",
       "      <td>16.529143</td>\n",
       "      <td>0.277135</td>\n",
       "      <td>7.569407</td>\n",
       "      <td>...</td>\n",
       "      <td>3.189766</td>\n",
       "      <td>7.458269</td>\n",
       "      <td>1.925944</td>\n",
       "      <td>3.322016</td>\n",
       "      <td>17.996967</td>\n",
       "      <td>-0.133657</td>\n",
       "      <td>2.290899</td>\n",
       "      <td>8.912428</td>\n",
       "      <td>15.869184</td>\n",
       "      <td>-3.246342</td>\n",
       "    </tr>\n",
       "    <tr>\n",
       "      <th>std</th>\n",
       "      <td>3.036716</td>\n",
       "      <td>4.040509</td>\n",
       "      <td>2.633888</td>\n",
       "      <td>2.052724</td>\n",
       "      <td>1.616456</td>\n",
       "      <td>7.869293</td>\n",
       "      <td>0.864686</td>\n",
       "      <td>3.424482</td>\n",
       "      <td>3.333375</td>\n",
       "      <td>1.231865</td>\n",
       "      <td>...</td>\n",
       "      <td>4.551239</td>\n",
       "      <td>3.025189</td>\n",
       "      <td>1.479966</td>\n",
       "      <td>3.995599</td>\n",
       "      <td>3.140652</td>\n",
       "      <td>1.429678</td>\n",
       "      <td>5.446346</td>\n",
       "      <td>0.920904</td>\n",
       "      <td>3.008717</td>\n",
       "      <td>10.398589</td>\n",
       "    </tr>\n",
       "    <tr>\n",
       "      <th>min</th>\n",
       "      <td>0.188700</td>\n",
       "      <td>-15.043400</td>\n",
       "      <td>2.355200</td>\n",
       "      <td>-0.022400</td>\n",
       "      <td>5.484400</td>\n",
       "      <td>-27.767000</td>\n",
       "      <td>2.216400</td>\n",
       "      <td>5.713700</td>\n",
       "      <td>-9.956000</td>\n",
       "      <td>4.243300</td>\n",
       "      <td>...</td>\n",
       "      <td>-14.093300</td>\n",
       "      <td>-2.407000</td>\n",
       "      <td>-3.340900</td>\n",
       "      <td>-11.413100</td>\n",
       "      <td>9.382800</td>\n",
       "      <td>-4.911900</td>\n",
       "      <td>-13.944200</td>\n",
       "      <td>6.169600</td>\n",
       "      <td>6.584000</td>\n",
       "      <td>-39.457800</td>\n",
       "    </tr>\n",
       "    <tr>\n",
       "      <th>25%</th>\n",
       "      <td>8.442975</td>\n",
       "      <td>-4.700125</td>\n",
       "      <td>8.735600</td>\n",
       "      <td>5.230500</td>\n",
       "      <td>9.891075</td>\n",
       "      <td>-11.201400</td>\n",
       "      <td>4.772600</td>\n",
       "      <td>13.933900</td>\n",
       "      <td>-2.303900</td>\n",
       "      <td>6.623800</td>\n",
       "      <td>...</td>\n",
       "      <td>-0.095000</td>\n",
       "      <td>5.166500</td>\n",
       "      <td>0.882975</td>\n",
       "      <td>0.587600</td>\n",
       "      <td>15.634775</td>\n",
       "      <td>-1.160700</td>\n",
       "      <td>-1.948600</td>\n",
       "      <td>8.260075</td>\n",
       "      <td>13.847275</td>\n",
       "      <td>-11.124000</td>\n",
       "    </tr>\n",
       "    <tr>\n",
       "      <th>50%</th>\n",
       "      <td>10.513800</td>\n",
       "      <td>-1.590500</td>\n",
       "      <td>10.560700</td>\n",
       "      <td>6.822350</td>\n",
       "      <td>11.099750</td>\n",
       "      <td>-4.834100</td>\n",
       "      <td>5.391600</td>\n",
       "      <td>16.422700</td>\n",
       "      <td>0.372000</td>\n",
       "      <td>7.632000</td>\n",
       "      <td>...</td>\n",
       "      <td>3.162400</td>\n",
       "      <td>7.379000</td>\n",
       "      <td>1.892600</td>\n",
       "      <td>3.428500</td>\n",
       "      <td>17.977600</td>\n",
       "      <td>-0.162000</td>\n",
       "      <td>2.403600</td>\n",
       "      <td>8.892800</td>\n",
       "      <td>15.943400</td>\n",
       "      <td>-2.725950</td>\n",
       "    </tr>\n",
       "    <tr>\n",
       "      <th>75%</th>\n",
       "      <td>12.739600</td>\n",
       "      <td>1.343400</td>\n",
       "      <td>12.495025</td>\n",
       "      <td>8.327600</td>\n",
       "      <td>12.253400</td>\n",
       "      <td>0.942575</td>\n",
       "      <td>6.005800</td>\n",
       "      <td>19.094550</td>\n",
       "      <td>2.930025</td>\n",
       "      <td>8.584825</td>\n",
       "      <td>...</td>\n",
       "      <td>6.336475</td>\n",
       "      <td>9.531100</td>\n",
       "      <td>2.956000</td>\n",
       "      <td>6.174200</td>\n",
       "      <td>20.391725</td>\n",
       "      <td>0.837900</td>\n",
       "      <td>6.519800</td>\n",
       "      <td>9.595900</td>\n",
       "      <td>18.045200</td>\n",
       "      <td>4.935400</td>\n",
       "    </tr>\n",
       "    <tr>\n",
       "      <th>max</th>\n",
       "      <td>22.323400</td>\n",
       "      <td>9.385100</td>\n",
       "      <td>18.714100</td>\n",
       "      <td>13.142000</td>\n",
       "      <td>16.037100</td>\n",
       "      <td>17.253700</td>\n",
       "      <td>8.302500</td>\n",
       "      <td>28.292800</td>\n",
       "      <td>9.665500</td>\n",
       "      <td>11.003600</td>\n",
       "      <td>...</td>\n",
       "      <td>20.359000</td>\n",
       "      <td>16.716500</td>\n",
       "      <td>8.005000</td>\n",
       "      <td>17.632600</td>\n",
       "      <td>27.947800</td>\n",
       "      <td>4.545400</td>\n",
       "      <td>15.920700</td>\n",
       "      <td>12.275800</td>\n",
       "      <td>26.538400</td>\n",
       "      <td>27.907400</td>\n",
       "    </tr>\n",
       "  </tbody>\n",
       "</table>\n",
       "<p>8 rows × 200 columns</p>\n",
       "</div>"
      ],
      "text/plain": [
       "               var_0          var_1          var_2          var_3  \\\n",
       "count  200000.000000  200000.000000  200000.000000  200000.000000   \n",
       "mean       10.658737      -1.624244      10.707452       6.788214   \n",
       "std         3.036716       4.040509       2.633888       2.052724   \n",
       "min         0.188700     -15.043400       2.355200      -0.022400   \n",
       "25%         8.442975      -4.700125       8.735600       5.230500   \n",
       "50%        10.513800      -1.590500      10.560700       6.822350   \n",
       "75%        12.739600       1.343400      12.495025       8.327600   \n",
       "max        22.323400       9.385100      18.714100      13.142000   \n",
       "\n",
       "               var_4          var_5          var_6          var_7  \\\n",
       "count  200000.000000  200000.000000  200000.000000  200000.000000   \n",
       "mean       11.076399      -5.050558       5.415164      16.529143   \n",
       "std         1.616456       7.869293       0.864686       3.424482   \n",
       "min         5.484400     -27.767000       2.216400       5.713700   \n",
       "25%         9.891075     -11.201400       4.772600      13.933900   \n",
       "50%        11.099750      -4.834100       5.391600      16.422700   \n",
       "75%        12.253400       0.942575       6.005800      19.094550   \n",
       "max        16.037100      17.253700       8.302500      28.292800   \n",
       "\n",
       "               var_8          var_9  ...        var_190        var_191  \\\n",
       "count  200000.000000  200000.000000  ...  200000.000000  200000.000000   \n",
       "mean        0.277135       7.569407  ...       3.189766       7.458269   \n",
       "std         3.333375       1.231865  ...       4.551239       3.025189   \n",
       "min        -9.956000       4.243300  ...     -14.093300      -2.407000   \n",
       "25%        -2.303900       6.623800  ...      -0.095000       5.166500   \n",
       "50%         0.372000       7.632000  ...       3.162400       7.379000   \n",
       "75%         2.930025       8.584825  ...       6.336475       9.531100   \n",
       "max         9.665500      11.003600  ...      20.359000      16.716500   \n",
       "\n",
       "             var_192        var_193        var_194        var_195  \\\n",
       "count  200000.000000  200000.000000  200000.000000  200000.000000   \n",
       "mean        1.925944       3.322016      17.996967      -0.133657   \n",
       "std         1.479966       3.995599       3.140652       1.429678   \n",
       "min        -3.340900     -11.413100       9.382800      -4.911900   \n",
       "25%         0.882975       0.587600      15.634775      -1.160700   \n",
       "50%         1.892600       3.428500      17.977600      -0.162000   \n",
       "75%         2.956000       6.174200      20.391725       0.837900   \n",
       "max         8.005000      17.632600      27.947800       4.545400   \n",
       "\n",
       "             var_196        var_197        var_198        var_199  \n",
       "count  200000.000000  200000.000000  200000.000000  200000.000000  \n",
       "mean        2.290899       8.912428      15.869184      -3.246342  \n",
       "std         5.446346       0.920904       3.008717      10.398589  \n",
       "min       -13.944200       6.169600       6.584000     -39.457800  \n",
       "25%        -1.948600       8.260075      13.847275     -11.124000  \n",
       "50%         2.403600       8.892800      15.943400      -2.725950  \n",
       "75%         6.519800       9.595900      18.045200       4.935400  \n",
       "max        15.920700      12.275800      26.538400      27.907400  \n",
       "\n",
       "[8 rows x 200 columns]"
      ]
     },
     "execution_count": 14,
     "metadata": {},
     "output_type": "execute_result"
    }
   ],
   "source": [
    "test.describe()"
   ]
  },
  {
   "cell_type": "markdown",
   "metadata": {},
   "source": [
    "Analysis of target variable for modeling indicates the target variable is imbalanced. I will condsider oversampling the minority class to improve model predictions"
   ]
  },
  {
   "cell_type": "code",
   "execution_count": 15,
   "metadata": {},
   "outputs": [
    {
     "data": {
      "text/plain": [
       "0    0.89951\n",
       "1    0.10049\n",
       "Name: target, dtype: float64"
      ]
     },
     "execution_count": 15,
     "metadata": {},
     "output_type": "execute_result"
    }
   ],
   "source": [
    "train['target'].value_counts(normalize = True)"
   ]
  },
  {
   "cell_type": "code",
   "execution_count": 16,
   "metadata": {},
   "outputs": [
    {
     "data": {
      "image/png": "[encoded data removed]",
      "text/plain": [
       "<Figure size 432x288 with 1 Axes>"
      ]
     },
     "metadata": {
      "needs_background": "light"
     },
     "output_type": "display_data"
    }
   ],
   "source": [
    "pd.Series(train['target']).value_counts().plot.bar();"
   ]
  },
  {
   "cell_type": "markdown",
   "metadata": {},
   "source": [
    "Functions for stats on modeling outputs"
   ]
  },
  {
   "cell_type": "code",
   "execution_count": 17,
   "metadata": {},
   "outputs": [],
   "source": [
    "def print_sampling_stats(Xs_train, X_train_sampled,\n",
    "                         y_train, y_train_sampled,\n",
    "                         y_test):\n",
    "    \n",
    "    print('Original dataset classes: {}'.format(Counter(y_train)))\n",
    "    print('Resampled dataset classes: {}'.format(Counter(y_train_sampled)))\n",
    "    print()\n",
    "    print('Test dataset classes still the same to model real world: {}'.format(Counter(y_test)))\n",
    "\n",
    "    print()\n",
    "    print('X_train shape (under/reg): ', X_train_sampled.shape, X_train_smote.shape)\n",
    "    print('y_train shape (under/reg): ', y_train_sampled.shape, y_train_smote.shape)\n",
    "    print('X_test, shape y_test: ', X_test.shape, y_test.shape)"
   ]
  },
  {
   "cell_type": "code",
   "execution_count": 18,
   "metadata": {},
   "outputs": [],
   "source": [
    "def evaluation(y_actual, predicted):\n",
    "    cnf_matrix = confusion_matrix(y_actual, predicted)\n",
    "\n",
    "    sns.heatmap(pd.DataFrame(cnf_matrix), annot = True, cmap = 'viridis', fmt = 'd')\n",
    "    plt.ylabel('Actual Label')\n",
    "    plt.xlabel('Predicted Label')\n",
    "    \n",
    "    labels = ['No Transaction', 'Transaction']\n",
    "    print(classification_report(y_actual, predicted, target_names = labels))"
   ]
  },
  {
   "cell_type": "markdown",
   "metadata": {},
   "source": [
    "Assign features and target variable to X, y"
   ]
  },
  {
   "cell_type": "code",
   "execution_count": 19,
   "metadata": {},
   "outputs": [],
   "source": [
    "features = train.drop(columns = [\"ID_code\", \"target\"])\n",
    "\n",
    "target = train['target']\n"
   ]
  },
  {
   "cell_type": "code",
   "execution_count": 20,
   "metadata": {},
   "outputs": [],
   "source": [
    "X = features\n",
    "y = target"
   ]
  },
  {
   "cell_type": "markdown",
   "metadata": {},
   "source": [
    "Train test split"
   ]
  },
  {
   "cell_type": "code",
   "execution_count": 21,
   "metadata": {},
   "outputs": [],
   "source": [
    "X_train, X_test, y_train, y_test = train_test_split(X, \n",
    "                                                    y, \n",
    "                                                    test_size = 0.2,\n",
    "                                                    random_state = 42, \n",
    "                                                    stratify = y) #class imbalance"
   ]
  },
  {
   "cell_type": "markdown",
   "metadata": {},
   "source": [
    "Instantiating SMOTE to oversample minority class "
   ]
  },
  {
   "cell_type": "code",
   "execution_count": 22,
   "metadata": {},
   "outputs": [],
   "source": [
    "from imblearn.over_sampling import SMOTE, RandomOverSampler\n",
    "from collections import Counter"
   ]
  },
  {
   "cell_type": "code",
   "execution_count": 23,
   "metadata": {},
   "outputs": [],
   "source": [
    "sm = SMOTE(random_state = 42)\n",
    "X_train_smote, y_train_smote = sm.fit_resample(X_train, y_train)  #oversampling only on training data so no info leakage in test\n"
   ]
  },
  {
   "cell_type": "code",
   "execution_count": 24,
   "metadata": {},
   "outputs": [
    {
     "name": "stdout",
     "output_type": "stream",
     "text": [
      "Original dataset classes: Counter({0: 143922, 1: 16078})\n",
      "Resampled dataset classes: Counter({0: 143922, 1: 143922})\n",
      "\n",
      "Test dataset classes still the same to model real world: Counter({0: 35980, 1: 4020})\n",
      "\n",
      "X_train shape (under/reg):  (287844, 200) (287844, 200)\n",
      "y_train shape (under/reg):  (287844,) (287844,)\n",
      "X_test, shape y_test:  (40000, 200) (40000,)\n"
     ]
    }
   ],
   "source": [
    "print_sampling_stats(X_train, X_train_smote,\n",
    "                     y_train, y_train_smote,\n",
    "                     y_test)"
   ]
  },
  {
   "cell_type": "markdown",
   "metadata": {},
   "source": [
    "Visualized target variable after application of SMOTE. SMOTE oversampled the minority class for better model performance. Future models target metric AUC will need to perform better than .50. "
   ]
  },
  {
   "cell_type": "code",
   "execution_count": 25,
   "metadata": {},
   "outputs": [
    {
     "data": {
      "text/plain": [
       "1    0.5\n",
       "0    0.5\n",
       "Name: target, dtype: float64"
      ]
     },
     "execution_count": 25,
     "metadata": {},
     "output_type": "execute_result"
    }
   ],
   "source": [
    "y_train_smote.value_counts(normalize = True)"
   ]
  },
  {
   "cell_type": "code",
   "execution_count": 26,
   "metadata": {},
   "outputs": [
    {
     "data": {
      "image/png": "[encoded data removed]",
      "text/plain": [
       "<Figure size 432x288 with 1 Axes>"
      ]
     },
     "metadata": {
      "needs_background": "light"
     },
     "output_type": "display_data"
    }
   ],
   "source": [
    "# observe that data has been balanced\n",
    "pd.Series(y_train_smote).value_counts().plot.bar();"
   ]
  },
  {
   "cell_type": "markdown",
   "metadata": {},
   "source": [
    "# Unsupervised models"
   ]
  },
  {
   "cell_type": "markdown",
   "metadata": {},
   "source": [
    "## Regularizing Neural Net Classifier "
   ]
  },
  {
   "cell_type": "code",
   "execution_count": 27,
   "metadata": {},
   "outputs": [],
   "source": [
    "n_input = X_train_smote.shape[1]"
   ]
  },
  {
   "cell_type": "code",
   "execution_count": 28,
   "metadata": {},
   "outputs": [
    {
     "data": {
      "text/plain": [
       "200"
      ]
     },
     "execution_count": 28,
     "metadata": {},
     "output_type": "execute_result"
    }
   ],
   "source": [
    "n_input"
   ]
  },
  {
   "cell_type": "code",
   "execution_count": 29,
   "metadata": {},
   "outputs": [
    {
     "data": {
      "text/plain": [
       "(287844, 200)"
      ]
     },
     "execution_count": 29,
     "metadata": {},
     "output_type": "execute_result"
    }
   ],
   "source": [
    "X_train_smote.shape"
   ]
  },
  {
   "cell_type": "code",
   "execution_count": 30,
   "metadata": {},
   "outputs": [
    {
     "data": {
      "text/plain": [
       "(287844,)"
      ]
     },
     "execution_count": 30,
     "metadata": {},
     "output_type": "execute_result"
    }
   ],
   "source": [
    "y_train_smote.shape"
   ]
  },
  {
   "cell_type": "code",
   "execution_count": 31,
   "metadata": {},
   "outputs": [],
   "source": [
    "from tensorflow.keras.models import Sequential\n",
    "from tensorflow.keras.layers import Dense\n",
    "import tensorflow as tf\n",
    "\n",
    "from sklearn.metrics import confusion_matrix\n",
    "import itertools\n",
    "import matplotlib.pyplot as plt"
   ]
  },
  {
   "cell_type": "markdown",
   "metadata": {},
   "source": [
    "### Dropout"
   ]
  },
  {
   "cell_type": "code",
   "execution_count": 32,
   "metadata": {},
   "outputs": [
    {
     "name": "stdout",
     "output_type": "stream",
     "text": [
      "Epoch 1/100\n",
      "8996/8996 [==============================] - 10s 1ms/step - loss: 0.6209 - acc: 0.6662 - auc: 0.7148 - val_loss: 0.4955 - val_acc: 0.7426 - val_auc: 0.8057\n",
      "Epoch 2/100\n",
      "8996/8996 [==============================] - 9s 1ms/step - loss: 0.4399 - acc: 0.7993 - auc: 0.8782 - val_loss: 0.4948 - val_acc: 0.7564 - val_auc: 0.8057\n",
      "Epoch 3/100\n",
      "8996/8996 [==============================] - 8s 937us/step - loss: 0.4080 - acc: 0.8182 - auc: 0.8966 - val_loss: 0.4424 - val_acc: 0.7804 - val_auc: 0.7999\n",
      "Epoch 4/100\n",
      "8996/8996 [==============================] - 9s 958us/step - loss: 0.3875 - acc: 0.8308 - auc: 0.9072 - val_loss: 0.4676 - val_acc: 0.7719 - val_auc: 0.7944\n",
      "Epoch 5/100\n",
      "8996/8996 [==============================] - 8s 933us/step - loss: 0.3754 - acc: 0.8382 - auc: 0.9132 - val_loss: 0.4387 - val_acc: 0.7911 - val_auc: 0.7938\n",
      "Epoch 6/100\n",
      "8996/8996 [==============================] - 9s 1ms/step - loss: 0.3666 - acc: 0.8424 - auc: 0.9173 - val_loss: 0.3969 - val_acc: 0.8145 - val_auc: 0.7901\n",
      "Epoch 7/100\n",
      "8996/8996 [==============================] - 9s 1ms/step - loss: 0.3558 - acc: 0.8478 - auc: 0.9223 - val_loss: 0.3755 - val_acc: 0.8313 - val_auc: 0.7895\n",
      "Epoch 8/100\n",
      "8996/8996 [==============================] - 9s 1ms/step - loss: 0.3539 - acc: 0.8491 - auc: 0.9230 - val_loss: 0.4509 - val_acc: 0.7855 - val_auc: 0.7909\n",
      "Epoch 9/100\n",
      "8996/8996 [==============================] - 9s 1ms/step - loss: 0.3473 - acc: 0.8530 - auc: 0.9260 - val_loss: 0.3930 - val_acc: 0.8289 - val_auc: 0.7910\n",
      "Epoch 10/100\n",
      "8996/8996 [==============================] - 9s 960us/step - loss: 0.3443 - acc: 0.8542 - auc: 0.9274 - val_loss: 0.3565 - val_acc: 0.8548 - val_auc: 0.7837\n",
      "Epoch 11/100\n",
      "8996/8996 [==============================] - 9s 1ms/step - loss: 0.3400 - acc: 0.8571 - auc: 0.9292 - val_loss: 0.4146 - val_acc: 0.8171 - val_auc: 0.7871\n",
      "Epoch 12/100\n",
      "8996/8996 [==============================] - 9s 970us/step - loss: 0.3367 - acc: 0.8590 - auc: 0.9305 - val_loss: 0.4349 - val_acc: 0.8047 - val_auc: 0.7901\n",
      "Epoch 13/100\n",
      "8996/8996 [==============================] - 9s 974us/step - loss: 0.3323 - acc: 0.8614 - auc: 0.9322 - val_loss: 0.4073 - val_acc: 0.8298 - val_auc: 0.7924\n",
      "Epoch 14/100\n",
      "8996/8996 [==============================] - 9s 971us/step - loss: 0.3302 - acc: 0.8611 - auc: 0.9332 - val_loss: 0.3730 - val_acc: 0.8354 - val_auc: 0.7869\n",
      "Epoch 15/100\n",
      "8996/8996 [==============================] - 9s 974us/step - loss: 0.3257 - acc: 0.8645 - auc: 0.9350 - val_loss: 0.4799 - val_acc: 0.7886 - val_auc: 0.7842\n",
      "Epoch 16/100\n",
      "8996/8996 [==============================] - 9s 992us/step - loss: 0.3261 - acc: 0.8644 - auc: 0.9347 - val_loss: 0.3551 - val_acc: 0.8515 - val_auc: 0.7812\n",
      "Epoch 17/100\n",
      "8996/8996 [==============================] - 8s 936us/step - loss: 0.3238 - acc: 0.8656 - auc: 0.9357 - val_loss: 0.3864 - val_acc: 0.8393 - val_auc: 0.7807\n",
      "Epoch 18/100\n",
      "8996/8996 [==============================] - 9s 1ms/step - loss: 0.3223 - acc: 0.8665 - auc: 0.9363 - val_loss: 0.3963 - val_acc: 0.8238 - val_auc: 0.7941\n",
      "Epoch 19/100\n",
      "8996/8996 [==============================] - 10s 1ms/step - loss: 0.3212 - acc: 0.8658 - auc: 0.9367 - val_loss: 0.3851 - val_acc: 0.8409 - val_auc: 0.7746\n",
      "Epoch 20/100\n",
      "8996/8996 [==============================] - 9s 954us/step - loss: 0.3183 - acc: 0.8671 - auc: 0.9379 - val_loss: 0.3821 - val_acc: 0.8286 - val_auc: 0.7896\n",
      "Epoch 21/100\n",
      "8996/8996 [==============================] - 9s 968us/step - loss: 0.3167 - acc: 0.8696 - auc: 0.9385 - val_loss: 0.3808 - val_acc: 0.8446 - val_auc: 0.7759\n",
      "Epoch 22/100\n",
      "8996/8996 [==============================] - 9s 982us/step - loss: 0.3164 - acc: 0.8693 - auc: 0.9387 - val_loss: 0.3880 - val_acc: 0.8402 - val_auc: 0.7858\n",
      "Epoch 23/100\n",
      "8996/8996 [==============================] - 8s 942us/step - loss: 0.3151 - acc: 0.8696 - auc: 0.9391 - val_loss: 0.4154 - val_acc: 0.8242 - val_auc: 0.7831\n",
      "Epoch 24/100\n",
      "8996/8996 [==============================] - 9s 1ms/step - loss: 0.3147 - acc: 0.8698 - auc: 0.9392 - val_loss: 0.4355 - val_acc: 0.8181 - val_auc: 0.7880\n",
      "Epoch 25/100\n",
      "8996/8996 [==============================] - 9s 996us/step - loss: 0.3111 - acc: 0.8721 - auc: 0.9407 - val_loss: 0.3683 - val_acc: 0.8525 - val_auc: 0.7817\n",
      "Epoch 26/100\n",
      "8996/8996 [==============================] - 9s 1ms/step - loss: 0.3089 - acc: 0.8730 - auc: 0.9413 - val_loss: 0.3900 - val_acc: 0.8312 - val_auc: 0.7899\n",
      "Epoch 27/100\n",
      "8996/8996 [==============================] - 10s 1ms/step - loss: 0.3102 - acc: 0.8728 - auc: 0.9411 - val_loss: 0.3849 - val_acc: 0.8396 - val_auc: 0.7872\n",
      "Epoch 28/100\n",
      "8996/8996 [==============================] - 11s 1ms/step - loss: 0.3107 - acc: 0.8726 - auc: 0.9409 - val_loss: 0.4129 - val_acc: 0.8219 - val_auc: 0.7858\n",
      "Epoch 29/100\n",
      "8996/8996 [==============================] - 10s 1ms/step - loss: 0.3073 - acc: 0.8740 - auc: 0.9422 - val_loss: 0.4446 - val_acc: 0.8032 - val_auc: 0.7877\n",
      "Epoch 30/100\n",
      "8996/8996 [==============================] - 9s 994us/step - loss: 0.3061 - acc: 0.8748 - auc: 0.9425 - val_loss: 0.3814 - val_acc: 0.8420 - val_auc: 0.7867\n",
      "Epoch 31/100\n",
      "8996/8996 [==============================] - 9s 982us/step - loss: 0.3060 - acc: 0.8741 - auc: 0.9425 - val_loss: 0.3611 - val_acc: 0.8553 - val_auc: 0.7809\n",
      "Epoch 32/100\n",
      "8996/8996 [==============================] - 9s 1ms/step - loss: 0.3038 - acc: 0.8754 - auc: 0.9434 - val_loss: 0.3824 - val_acc: 0.8378 - val_auc: 0.7875\n",
      "Epoch 33/100\n",
      "8996/8996 [==============================] - 9s 985us/step - loss: 0.3009 - acc: 0.8769 - auc: 0.9443 - val_loss: 0.3797 - val_acc: 0.8332 - val_auc: 0.7910\n",
      "Epoch 34/100\n",
      "8996/8996 [==============================] - 9s 961us/step - loss: 0.3035 - acc: 0.8755 - auc: 0.9433 - val_loss: 0.3832 - val_acc: 0.8482 - val_auc: 0.7786\n",
      "Epoch 35/100\n",
      "8996/8996 [==============================] - 9s 965us/step - loss: 0.3018 - acc: 0.8766 - auc: 0.9441 - val_loss: 0.3866 - val_acc: 0.8291 - val_auc: 0.7905\n",
      "Epoch 36/100\n",
      "8996/8996 [==============================] - 8s 937us/step - loss: 0.3012 - acc: 0.8764 - auc: 0.9443 - val_loss: 0.4027 - val_acc: 0.8200 - val_auc: 0.7938\n",
      "Epoch 37/100\n",
      "8996/8996 [==============================] - 9s 957us/step - loss: 0.2997 - acc: 0.8783 - auc: 0.9447 - val_loss: 0.3883 - val_acc: 0.8340 - val_auc: 0.7860\n",
      "Epoch 38/100\n",
      "8996/8996 [==============================] - 8s 923us/step - loss: 0.2997 - acc: 0.8778 - auc: 0.9448 - val_loss: 0.3873 - val_acc: 0.8313 - val_auc: 0.7939\n",
      "Epoch 39/100\n",
      "8996/8996 [==============================] - 9s 947us/step - loss: 0.2984 - acc: 0.8779 - auc: 0.9455 - val_loss: 0.3933 - val_acc: 0.8420 - val_auc: 0.7789\n",
      "Epoch 40/100\n",
      "8996/8996 [==============================] - 8s 938us/step - loss: 0.2986 - acc: 0.8784 - auc: 0.9453 - val_loss: 0.4058 - val_acc: 0.8185 - val_auc: 0.7931\n",
      "Epoch 41/100\n",
      "8996/8996 [==============================] - 10s 1ms/step - loss: 0.2962 - acc: 0.8789 - auc: 0.9460 - val_loss: 0.4063 - val_acc: 0.8152 - val_auc: 0.7951\n",
      "Epoch 42/100\n",
      "8996/8996 [==============================] - 9s 1ms/step - loss: 0.2945 - acc: 0.8798 - auc: 0.9468 - val_loss: 0.3817 - val_acc: 0.8385 - val_auc: 0.7897\n",
      "Epoch 43/100\n",
      "8996/8996 [==============================] - 9s 1ms/step - loss: 0.2947 - acc: 0.8802 - auc: 0.9466 - val_loss: 0.4061 - val_acc: 0.8259 - val_auc: 0.7850\n",
      "Epoch 44/100\n",
      "8996/8996 [==============================] - 10s 1ms/step - loss: 0.2936 - acc: 0.8807 - auc: 0.9470 - val_loss: 0.3825 - val_acc: 0.8496 - val_auc: 0.7793\n",
      "Epoch 45/100\n",
      "8996/8996 [==============================] - 9s 946us/step - loss: 0.2943 - acc: 0.8804 - auc: 0.9467 - val_loss: 0.4056 - val_acc: 0.8235 - val_auc: 0.7828\n",
      "Epoch 46/100\n",
      "8996/8996 [==============================] - 9s 953us/step - loss: 0.2970 - acc: 0.8777 - auc: 0.9458 - val_loss: 0.3797 - val_acc: 0.8446 - val_auc: 0.7839\n",
      "Epoch 47/100\n",
      "8996/8996 [==============================] - 8s 934us/step - loss: 0.2947 - acc: 0.8788 - auc: 0.9466 - val_loss: 0.4056 - val_acc: 0.8300 - val_auc: 0.7893\n",
      "Epoch 48/100\n",
      "8996/8996 [==============================] - 9s 947us/step - loss: 0.2917 - acc: 0.8808 - auc: 0.9475 - val_loss: 0.4063 - val_acc: 0.8234 - val_auc: 0.7860\n",
      "Epoch 49/100\n",
      "8996/8996 [==============================] - 8s 927us/step - loss: 0.2945 - acc: 0.8795 - auc: 0.9467 - val_loss: 0.3947 - val_acc: 0.8384 - val_auc: 0.7871\n",
      "Epoch 50/100\n",
      "8996/8996 [==============================] - 8s 924us/step - loss: 0.2922 - acc: 0.8807 - auc: 0.9476 - val_loss: 0.3967 - val_acc: 0.8417 - val_auc: 0.7889\n",
      "Epoch 51/100\n",
      "8996/8996 [==============================] - 9s 976us/step - loss: 0.2936 - acc: 0.8803 - auc: 0.9471 - val_loss: 0.3844 - val_acc: 0.8489 - val_auc: 0.7834\n",
      "Epoch 52/100\n",
      "8996/8996 [==============================] - 10s 1ms/step - loss: 0.2933 - acc: 0.8812 - auc: 0.9471 - val_loss: 0.4035 - val_acc: 0.8237 - val_auc: 0.7905\n",
      "Epoch 53/100\n",
      "8996/8996 [==============================] - 9s 1ms/step - loss: 0.2885 - acc: 0.8824 - auc: 0.9489 - val_loss: 0.4085 - val_acc: 0.8284 - val_auc: 0.7881\n",
      "Epoch 54/100\n",
      "8996/8996 [==============================] - 9s 954us/step - loss: 0.2930 - acc: 0.8797 - auc: 0.9472 - val_loss: 0.4185 - val_acc: 0.8107 - val_auc: 0.7921\n",
      "Epoch 55/100\n",
      "8996/8996 [==============================] - 8s 938us/step - loss: 0.2887 - acc: 0.8828 - auc: 0.9488 - val_loss: 0.4179 - val_acc: 0.8315 - val_auc: 0.7865\n",
      "Epoch 56/100\n",
      "8996/8996 [==============================] - 9s 960us/step - loss: 0.2900 - acc: 0.8822 - auc: 0.9481 - val_loss: 0.4290 - val_acc: 0.8221 - val_auc: 0.7837\n",
      "Epoch 57/100\n",
      "8996/8996 [==============================] - 9s 958us/step - loss: 0.2903 - acc: 0.8827 - auc: 0.9481 - val_loss: 0.3775 - val_acc: 0.8520 - val_auc: 0.7829\n",
      "Epoch 58/100\n",
      "8996/8996 [==============================] - 9s 994us/step - loss: 0.2884 - acc: 0.8827 - auc: 0.9488 - val_loss: 0.4326 - val_acc: 0.8087 - val_auc: 0.7871\n",
      "Epoch 59/100\n",
      "8996/8996 [==============================] - 9s 1ms/step - loss: 0.2884 - acc: 0.8822 - auc: 0.9488 - val_loss: 0.3925 - val_acc: 0.8397 - val_auc: 0.7875\n",
      "Epoch 60/100\n",
      "8996/8996 [==============================] - 8s 943us/step - loss: 0.2873 - acc: 0.8841 - auc: 0.9492 - val_loss: 0.3967 - val_acc: 0.8386 - val_auc: 0.7848\n",
      "Epoch 61/100\n",
      "8996/8996 [==============================] - 9s 992us/step - loss: 0.2862 - acc: 0.8843 - auc: 0.9495 - val_loss: 0.3892 - val_acc: 0.8428 - val_auc: 0.7852\n",
      "Epoch 62/100\n",
      "8996/8996 [==============================] - 9s 960us/step - loss: 0.2866 - acc: 0.8834 - auc: 0.9495 - val_loss: 0.4608 - val_acc: 0.7966 - val_auc: 0.7845\n",
      "Epoch 63/100\n",
      "8996/8996 [==============================] - 9s 988us/step - loss: 0.2890 - acc: 0.8834 - auc: 0.9486 - val_loss: 0.4320 - val_acc: 0.8192 - val_auc: 0.7858\n",
      "Epoch 64/100\n",
      "8996/8996 [==============================] - 9s 989us/step - loss: 0.2859 - acc: 0.8835 - auc: 0.9498 - val_loss: 0.4243 - val_acc: 0.8299 - val_auc: 0.7799\n",
      "Epoch 65/100\n",
      "8996/8996 [==============================] - 9s 966us/step - loss: 0.2857 - acc: 0.8840 - auc: 0.9498 - val_loss: 0.3765 - val_acc: 0.8519 - val_auc: 0.7778\n",
      "Epoch 66/100\n",
      "8996/8996 [==============================] - 9s 1ms/step - loss: 0.2855 - acc: 0.8848 - auc: 0.9497 - val_loss: 0.4134 - val_acc: 0.8338 - val_auc: 0.7841\n",
      "Epoch 67/100\n",
      "8996/8996 [==============================] - 9s 1ms/step - loss: 0.2839 - acc: 0.8848 - auc: 0.9504 - val_loss: 0.3849 - val_acc: 0.8449 - val_auc: 0.7790\n",
      "Epoch 68/100\n",
      "8996/8996 [==============================] - 8s 929us/step - loss: 0.2831 - acc: 0.8855 - auc: 0.9505 - val_loss: 0.3951 - val_acc: 0.8393 - val_auc: 0.7857\n",
      "Epoch 69/100\n",
      "8996/8996 [==============================] - 8s 930us/step - loss: 0.2836 - acc: 0.8850 - auc: 0.9505 - val_loss: 0.3822 - val_acc: 0.8531 - val_auc: 0.7787\n",
      "Epoch 70/100\n",
      "8996/8996 [==============================] - 8s 915us/step - loss: 0.2834 - acc: 0.8855 - auc: 0.9507 - val_loss: 0.3840 - val_acc: 0.8462 - val_auc: 0.7862\n",
      "Epoch 71/100\n",
      "8996/8996 [==============================] - 8s 916us/step - loss: 0.2841 - acc: 0.8846 - auc: 0.9503 - val_loss: 0.3983 - val_acc: 0.8353 - val_auc: 0.7834\n",
      "Epoch 72/100\n",
      "8996/8996 [==============================] - 8s 918us/step - loss: 0.2826 - acc: 0.8851 - auc: 0.9508 - val_loss: 0.4199 - val_acc: 0.8279 - val_auc: 0.7809\n",
      "Epoch 73/100\n",
      "8996/8996 [==============================] - 8s 927us/step - loss: 0.2833 - acc: 0.8849 - auc: 0.9506 - val_loss: 0.4059 - val_acc: 0.8355 - val_auc: 0.7872\n",
      "Epoch 74/100\n",
      "8996/8996 [==============================] - 8s 921us/step - loss: 0.2822 - acc: 0.8858 - auc: 0.9508 - val_loss: 0.3844 - val_acc: 0.8497 - val_auc: 0.7797\n",
      "Epoch 75/100\n",
      "8996/8996 [==============================] - 8s 917us/step - loss: 0.2826 - acc: 0.8851 - auc: 0.9507 - val_loss: 0.4032 - val_acc: 0.8385 - val_auc: 0.7739\n",
      "Epoch 76/100\n",
      "8996/8996 [==============================] - 8s 917us/step - loss: 0.2812 - acc: 0.8858 - auc: 0.9513 - val_loss: 0.4057 - val_acc: 0.8253 - val_auc: 0.7787\n",
      "Epoch 77/100\n",
      "8996/8996 [==============================] - 9s 988us/step - loss: 0.2816 - acc: 0.8869 - auc: 0.9511 - val_loss: 0.4268 - val_acc: 0.8272 - val_auc: 0.7808\n",
      "Epoch 78/100\n",
      "8996/8996 [==============================] - 8s 919us/step - loss: 0.2800 - acc: 0.8870 - auc: 0.9517 - val_loss: 0.3943 - val_acc: 0.8368 - val_auc: 0.7849\n",
      "Epoch 79/100\n",
      "8996/8996 [==============================] - 8s 917us/step - loss: 0.2821 - acc: 0.8855 - auc: 0.9509 - val_loss: 0.4040 - val_acc: 0.8389 - val_auc: 0.7817\n",
      "Epoch 80/100\n",
      "8996/8996 [==============================] - 8s 929us/step - loss: 0.2810 - acc: 0.8856 - auc: 0.9513 - val_loss: 0.3817 - val_acc: 0.8426 - val_auc: 0.7901\n",
      "Epoch 81/100\n",
      "8996/8996 [==============================] - 8s 931us/step - loss: 0.2807 - acc: 0.8868 - auc: 0.9514 - val_loss: 0.4254 - val_acc: 0.8227 - val_auc: 0.7847\n",
      "Epoch 82/100\n",
      "8996/8996 [==============================] - 9s 991us/step - loss: 0.2790 - acc: 0.8868 - auc: 0.9520 - val_loss: 0.3948 - val_acc: 0.8453 - val_auc: 0.7847\n",
      "Epoch 83/100\n",
      "8996/8996 [==============================] - 9s 963us/step - loss: 0.2780 - acc: 0.8873 - auc: 0.9523 - val_loss: 0.3790 - val_acc: 0.8551 - val_auc: 0.7826\n",
      "Epoch 84/100\n",
      "8996/8996 [==============================] - 9s 967us/step - loss: 0.2782 - acc: 0.8862 - auc: 0.9524 - val_loss: 0.4171 - val_acc: 0.8249 - val_auc: 0.7840\n",
      "Epoch 85/100\n",
      "8996/8996 [==============================] - 9s 1ms/step - loss: 0.2790 - acc: 0.8867 - auc: 0.9520 - val_loss: 0.4124 - val_acc: 0.8319 - val_auc: 0.7855\n",
      "Epoch 86/100\n",
      "8996/8996 [==============================] - 9s 950us/step - loss: 0.2787 - acc: 0.8871 - auc: 0.9521 - val_loss: 0.4149 - val_acc: 0.8174 - val_auc: 0.7940\n",
      "Epoch 87/100\n",
      "8996/8996 [==============================] - 9s 945us/step - loss: 0.2787 - acc: 0.8869 - auc: 0.9520 - val_loss: 0.4237 - val_acc: 0.8181 - val_auc: 0.7924\n",
      "Epoch 88/100\n",
      "8996/8996 [==============================] - 9s 947us/step - loss: 0.2809 - acc: 0.8848 - auc: 0.9514 - val_loss: 0.4072 - val_acc: 0.8303 - val_auc: 0.7863\n",
      "Epoch 89/100\n",
      "8996/8996 [==============================] - 9s 949us/step - loss: 0.2781 - acc: 0.8872 - auc: 0.9524 - val_loss: 0.4081 - val_acc: 0.8241 - val_auc: 0.7890\n",
      "Epoch 90/100\n",
      "8996/8996 [==============================] - 8s 939us/step - loss: 0.2757 - acc: 0.8885 - auc: 0.9531 - val_loss: 0.3900 - val_acc: 0.8465 - val_auc: 0.7878\n",
      "Epoch 91/100\n",
      "8996/8996 [==============================] - 8s 935us/step - loss: 0.2776 - acc: 0.8875 - auc: 0.9525 - val_loss: 0.3893 - val_acc: 0.8382 - val_auc: 0.7865\n",
      "Epoch 92/100\n",
      "8996/8996 [==============================] - 8s 942us/step - loss: 0.2785 - acc: 0.8876 - auc: 0.9522 - val_loss: 0.4213 - val_acc: 0.8361 - val_auc: 0.7792\n",
      "Epoch 93/100\n",
      "8996/8996 [==============================] - 8s 934us/step - loss: 0.2776 - acc: 0.8881 - auc: 0.9524 - val_loss: 0.3941 - val_acc: 0.8471 - val_auc: 0.7755\n",
      "Epoch 94/100\n",
      "8996/8996 [==============================] - 9s 955us/step - loss: 0.2757 - acc: 0.8893 - auc: 0.9530 - val_loss: 0.4184 - val_acc: 0.8261 - val_auc: 0.7825\n",
      "Epoch 95/100\n",
      "8996/8996 [==============================] - 8s 924us/step - loss: 0.2771 - acc: 0.8878 - auc: 0.9526 - val_loss: 0.4027 - val_acc: 0.8364 - val_auc: 0.7761\n",
      "Epoch 96/100\n",
      "8996/8996 [==============================] - 8s 937us/step - loss: 0.2765 - acc: 0.8891 - auc: 0.9528 - val_loss: 0.4032 - val_acc: 0.8439 - val_auc: 0.7793\n",
      "Epoch 97/100\n"
     ]
    },
    {
     "name": "stdout",
     "output_type": "stream",
     "text": [
      "8996/8996 [==============================] - 8s 943us/step - loss: 0.2773 - acc: 0.8885 - auc: 0.9526 - val_loss: 0.3935 - val_acc: 0.8476 - val_auc: 0.7849\n",
      "Epoch 98/100\n",
      "8996/8996 [==============================] - 8s 923us/step - loss: 0.2761 - acc: 0.8886 - auc: 0.9528 - val_loss: 0.3998 - val_acc: 0.8367 - val_auc: 0.7882\n",
      "Epoch 99/100\n",
      "8996/8996 [==============================] - 8s 923us/step - loss: 0.2774 - acc: 0.8874 - auc: 0.9525 - val_loss: 0.3868 - val_acc: 0.8520 - val_auc: 0.7805\n",
      "Epoch 100/100\n",
      "8996/8996 [==============================] - 8s 922us/step - loss: 0.2762 - acc: 0.8891 - auc: 0.9529 - val_loss: 0.3860 - val_acc: 0.8552 - val_auc: 0.7843\n"
     ]
    }
   ],
   "source": [
    "from tensorflow.keras.layers import Dropout\n",
    "\n",
    "model_dropout = Sequential() #instantiate the model \n",
    "\n",
    "n_input = X_train_smote.shape[1]\n",
    "n_hidden = n_input\n",
    "\n",
    "model_dropout.add(Dense(n_hidden, input_dim = n_input, activation='relu'))\n",
    "\n",
    "model_dropout.add(Dropout(0.2)) # refers to nodes in the first hidden layer\n",
    "\n",
    "model_dropout.add(Dense(20, activation='relu'))\n",
    "\n",
    "model_dropout.add(Dropout(0.2))\n",
    "\n",
    "model_dropout.add(Dense(1, activation='sigmoid'))\n",
    "\n",
    "model_dropout.compile(loss='binary_crossentropy', optimizer='adam',  metrics=[['acc'],[tf.keras.metrics.AUC()]])\n",
    "\n",
    "history_dropout = model_dropout.fit(\n",
    "    X_train_smote,\n",
    "    y_train_smote,\n",
    "    validation_data=(X_test, y_test), \n",
    "    epochs=100,\n",
    "    batch_size=None\n",
    ")"
   ]
  },
  {
   "cell_type": "code",
   "execution_count": 33,
   "metadata": {},
   "outputs": [
    {
     "data": {
      "image/png": "[encoded data removed]",
      "text/plain": [
       "<Figure size 864x576 with 1 Axes>"
      ]
     },
     "metadata": {
      "needs_background": "light"
     },
     "output_type": "display_data"
    }
   ],
   "source": [
    "train_loss = history_dropout.history['loss']\n",
    "test_loss = history_dropout.history['val_loss']\n",
    "\n",
    "plt.figure(figsize=(12, 8))\n",
    "plt.plot(train_loss, label='Training loss', color='navy')\n",
    "plt.plot(test_loss, label='Testing loss', color='skyblue')\n",
    "plt.legend();"
   ]
  },
  {
   "cell_type": "code",
   "execution_count": 34,
   "metadata": {},
   "outputs": [
    {
     "data": {
      "text/plain": [
       "(0.8884499669075012, 0.8552250266075134)"
      ]
     },
     "execution_count": 34,
     "metadata": {},
     "output_type": "execute_result"
    }
   ],
   "source": [
    "history_dropout.history['acc'][-1], history_dropout.history['val_acc'][-1]"
   ]
  },
  {
   "cell_type": "code",
   "execution_count": 35,
   "metadata": {},
   "outputs": [
    {
     "name": "stdout",
     "output_type": "stream",
     "text": [
      "Model: \"sequential\"\n",
      "_________________________________________________________________\n",
      "Layer (type)                 Output Shape              Param #   \n",
      "=================================================================\n",
      "dense (Dense)                (None, 200)               40200     \n",
      "_________________________________________________________________\n",
      "dropout (Dropout)            (None, 200)               0         \n",
      "_________________________________________________________________\n",
      "dense_1 (Dense)              (None, 20)                4020      \n",
      "_________________________________________________________________\n",
      "dropout_1 (Dropout)          (None, 20)                0         \n",
      "_________________________________________________________________\n",
      "dense_2 (Dense)              (None, 1)                 21        \n",
      "=================================================================\n",
      "Total params: 44,241\n",
      "Trainable params: 44,241\n",
      "Non-trainable params: 0\n",
      "_________________________________________________________________\n"
     ]
    }
   ],
   "source": [
    "model_dropout.summary()"
   ]
  },
  {
   "cell_type": "code",
   "execution_count": 36,
   "metadata": {},
   "outputs": [
    {
     "name": "stderr",
     "output_type": "stream",
     "text": [
      "/Users/sheenacook/opt/anaconda3/lib/python3.8/site-packages/tensorflow/python/keras/engine/sequential.py:450: UserWarning: `model.predict_classes()` is deprecated and will be removed after 2021-01-01. Please use instead:* `np.argmax(model.predict(x), axis=-1)`,   if your model does multi-class classification   (e.g. if it uses a `softmax` last-layer activation).* `(model.predict(x) > 0.5).astype(\"int32\")`,   if your model does binary classification   (e.g. if it uses a `sigmoid` last-layer activation).\n",
      "  warnings.warn('`model.predict_classes()` is deprecated and '\n"
     ]
    }
   ],
   "source": [
    "preds_do = model_dropout.predict_classes(X_test)"
   ]
  },
  {
   "cell_type": "code",
   "execution_count": 37,
   "metadata": {},
   "outputs": [
    {
     "name": "stdout",
     "output_type": "stream",
     "text": [
      "                precision    recall  f1-score   support\n",
      "\n",
      "No Transaction       0.94      0.90      0.92     35980\n",
      "   Transaction       0.35      0.49      0.41      4020\n",
      "\n",
      "      accuracy                           0.86     40000\n",
      "     macro avg       0.64      0.69      0.66     40000\n",
      "  weighted avg       0.88      0.86      0.87     40000\n",
      "\n"
     ]
    },
    {
     "data": {
      "image/png": "[encoded data removed]",
      "text/plain": [
       "<Figure size 432x288 with 2 Axes>"
      ]
     },
     "metadata": {
      "needs_background": "light"
     },
     "output_type": "display_data"
    }
   ],
   "source": [
    "evaluation(y_test, preds_do)"
   ]
  },
  {
   "cell_type": "code",
   "execution_count": 38,
   "metadata": {},
   "outputs": [],
   "source": [
    "# SOURCE: https://machinelearningmastery.com/how-to-make-classification-and-regression-predictions-for-deep-learning-models-in-keras/\n",
    "#SOURCE:  https://keras.io/api/metrics/classification_metrics/#auc-class"
   ]
  },
  {
   "cell_type": "markdown",
   "metadata": {},
   "source": [
    "## Interpretation\n",
    "\n",
    "\n",
    "I chose to regularize a Neural Net with dropout because trianing NN's can be a challenge due to how long to train, and potentially overfitting them. Once the model reached the optimal AUC score it stopped training. AUC ROC measures the ability of the classifier to distinguish between classes and is used as a summary of ROC curve.  The AUC score performed well with a .95 score."
   ]
  },
  {
   "cell_type": "markdown",
   "metadata": {},
   "source": [
    "### Early Stopping"
   ]
  },
  {
   "cell_type": "code",
   "execution_count": 39,
   "metadata": {},
   "outputs": [
    {
     "name": "stdout",
     "output_type": "stream",
     "text": [
      "Epoch 1/100\n",
      "8996/8996 [==============================] - 8s 811us/step - loss: 0.5997 - acc: 0.7057 - auc_1: 0.7737 - val_loss: 0.6697 - val_acc: 0.6500 - val_auc_1: 0.8222\n",
      "Epoch 2/100\n",
      "8996/8996 [==============================] - 7s 735us/step - loss: 0.4465 - acc: 0.7916 - auc_1: 0.8724 - val_loss: 0.4411 - val_acc: 0.7901 - val_auc_1: 0.8198\n",
      "Epoch 3/100\n",
      "8996/8996 [==============================] - 7s 791us/step - loss: 0.4302 - acc: 0.8029 - auc_1: 0.8824 - val_loss: 0.4305 - val_acc: 0.7964 - val_auc_1: 0.8164\n",
      "Epoch 4/100\n",
      "8996/8996 [==============================] - 7s 777us/step - loss: 0.4202 - acc: 0.8079 - auc_1: 0.8883 - val_loss: 0.4914 - val_acc: 0.7627 - val_auc_1: 0.8145\n",
      "Epoch 5/100\n",
      "8996/8996 [==============================] - 7s 778us/step - loss: 0.4141 - acc: 0.8136 - auc_1: 0.8917 - val_loss: 0.4081 - val_acc: 0.8107 - val_auc_1: 0.8115\n",
      "Epoch 6/100\n",
      "8996/8996 [==============================] - 7s 833us/step - loss: 0.4091 - acc: 0.8165 - auc_1: 0.8944 - val_loss: 0.4530 - val_acc: 0.7818 - val_auc_1: 0.8097\n",
      "Epoch 7/100\n",
      "8996/8996 [==============================] - 7s 811us/step - loss: 0.4052 - acc: 0.8177 - auc_1: 0.8966 - val_loss: 0.4193 - val_acc: 0.8047 - val_auc_1: 0.8131\n",
      "Epoch 8/100\n",
      "8996/8996 [==============================] - 7s 749us/step - loss: 0.4004 - acc: 0.8211 - auc_1: 0.8991 - val_loss: 0.4080 - val_acc: 0.8065 - val_auc_1: 0.8070\n",
      "Epoch 9/100\n",
      "8996/8996 [==============================] - 7s 745us/step - loss: 0.3971 - acc: 0.8225 - auc_1: 0.9009 - val_loss: 0.4185 - val_acc: 0.8018 - val_auc_1: 0.8096\n",
      "Epoch 10/100\n",
      "8996/8996 [==============================] - 7s 748us/step - loss: 0.3965 - acc: 0.8227 - auc_1: 0.9013 - val_loss: 0.4145 - val_acc: 0.8042 - val_auc_1: 0.8081\n",
      "Epoch 11/100\n",
      "8996/8996 [==============================] - 7s 738us/step - loss: 0.3946 - acc: 0.8248 - auc_1: 0.9021 - val_loss: 0.4713 - val_acc: 0.7703 - val_auc_1: 0.8052\n",
      "Epoch 12/100\n",
      "8996/8996 [==============================] - 8s 857us/step - loss: 0.3924 - acc: 0.8250 - auc_1: 0.9032 - val_loss: 0.4958 - val_acc: 0.7580 - val_auc_1: 0.8089\n",
      "Epoch 13/100\n",
      "8996/8996 [==============================] - 7s 740us/step - loss: 0.3905 - acc: 0.8262 - auc_1: 0.9042 - val_loss: 0.4264 - val_acc: 0.7970 - val_auc_1: 0.8024\n",
      "Epoch 00013: early stopping\n"
     ]
    }
   ],
   "source": [
    "from tensorflow.keras.callbacks import EarlyStopping\n",
    "\n",
    "model_es = Sequential()\n",
    "\n",
    "n_input = X_train.shape[1]\n",
    "\n",
    "model_es.add(Dense(17, input_dim=n_input, activation='relu'))\n",
    "model_es.add(Dense(10, activation='relu'))\n",
    "model_es.add(Dense(1, activation='sigmoid'))\n",
    "\n",
    "model_es.compile(loss='binary_crossentropy', optimizer='adam', metrics=[['acc'],[tf.keras.metrics.AUC()]])\n",
    "\n",
    "early_stop = EarlyStopping(monitor='val_loss', min_delta=0, patience=5, verbose=1, mode='auto')\n",
    "\n",
    "history_es = model_es.fit(\n",
    "    X_train_smote,\n",
    "    y_train_smote,\n",
    "    validation_data=(X_test, y_test),\n",
    "    epochs=100,\n",
    "    batch_size=None,\n",
    "    callbacks=[early_stop]\n",
    ")"
   ]
  },
  {
   "cell_type": "code",
   "execution_count": 40,
   "metadata": {},
   "outputs": [
    {
     "data": {
      "image/png": "[encoded data removed]",
      "text/plain": [
       "<Figure size 864x576 with 1 Axes>"
      ]
     },
     "metadata": {
      "needs_background": "light"
     },
     "output_type": "display_data"
    }
   ],
   "source": [
    "train_loss_es = history_es.history['loss']\n",
    "test_loss_es = history_es.history['acc']\n",
    "plt.figure(figsize=(12, 8))\n",
    "plt.plot(train_loss, label='Training loss', color='violet')\n",
    "plt.plot(test_loss, label='Testing loss', color='lavender')\n",
    "plt.plot(train_loss_es, label='ES Training loss', color='navy')\n",
    "plt.plot(test_loss_es, label='ES Testing loss', color='skyblue')\n",
    "plt.legend();"
   ]
  },
  {
   "cell_type": "code",
   "execution_count": 41,
   "metadata": {},
   "outputs": [
    {
     "data": {
      "text/plain": [
       "(0.8259126543998718, 0.7970499992370605)"
      ]
     },
     "execution_count": 41,
     "metadata": {},
     "output_type": "execute_result"
    }
   ],
   "source": [
    "history_es.history['acc'][-1], history_es.history['val_acc'][-1]"
   ]
  },
  {
   "cell_type": "code",
   "execution_count": 42,
   "metadata": {},
   "outputs": [
    {
     "name": "stdout",
     "output_type": "stream",
     "text": [
      "Model: \"sequential_1\"\n",
      "_________________________________________________________________\n",
      "Layer (type)                 Output Shape              Param #   \n",
      "=================================================================\n",
      "dense_3 (Dense)              (None, 17)                3417      \n",
      "_________________________________________________________________\n",
      "dense_4 (Dense)              (None, 10)                180       \n",
      "_________________________________________________________________\n",
      "dense_5 (Dense)              (None, 1)                 11        \n",
      "=================================================================\n",
      "Total params: 3,608\n",
      "Trainable params: 3,608\n",
      "Non-trainable params: 0\n",
      "_________________________________________________________________\n"
     ]
    }
   ],
   "source": [
    "model_es.summary()"
   ]
  },
  {
   "cell_type": "markdown",
   "metadata": {},
   "source": [
    "Comparison of models using Confusion Matrix "
   ]
  },
  {
   "cell_type": "code",
   "execution_count": 43,
   "metadata": {},
   "outputs": [
    {
     "name": "stderr",
     "output_type": "stream",
     "text": [
      "/Users/sheenacook/opt/anaconda3/lib/python3.8/site-packages/tensorflow/python/keras/engine/sequential.py:450: UserWarning: `model.predict_classes()` is deprecated and will be removed after 2021-01-01. Please use instead:* `np.argmax(model.predict(x), axis=-1)`,   if your model does multi-class classification   (e.g. if it uses a `softmax` last-layer activation).* `(model.predict(x) > 0.5).astype(\"int32\")`,   if your model does binary classification   (e.g. if it uses a `sigmoid` last-layer activation).\n",
      "  warnings.warn('`model.predict_classes()` is deprecated and '\n"
     ]
    }
   ],
   "source": [
    "preds_es = model_es.predict_classes(X_test)"
   ]
  },
  {
   "cell_type": "code",
   "execution_count": 44,
   "metadata": {},
   "outputs": [
    {
     "name": "stdout",
     "output_type": "stream",
     "text": [
      "                precision    recall  f1-score   support\n",
      "\n",
      "No Transaction       0.95      0.82      0.88     35980\n",
      "   Transaction       0.28      0.62      0.38      4020\n",
      "\n",
      "      accuracy                           0.80     40000\n",
      "     macro avg       0.61      0.72      0.63     40000\n",
      "  weighted avg       0.88      0.80      0.83     40000\n",
      "\n"
     ]
    },
    {
     "data": {
      "image/png": "[encoded data removed]",
      "text/plain": [
       "<Figure size 432x288 with 2 Axes>"
      ]
     },
     "metadata": {
      "needs_background": "light"
     },
     "output_type": "display_data"
    }
   ],
   "source": [
    "evaluation(y_test, preds_es)"
   ]
  },
  {
   "cell_type": "markdown",
   "metadata": {},
   "source": [
    "SOURCE: for CM \n",
    "\n",
    "https://deeplizard.com/learn/video/km7pxKy4UHU"
   ]
  },
  {
   "cell_type": "markdown",
   "metadata": {},
   "source": [
    "## Interpretation\n",
    "\n",
    "I chose to regularize a Neural Net with early stop because trianing NN's can be a challenge due to how long to train, and potentially overfitting them. Once the model reached the optimal AUC score it stopped training. AUC ROC measures the ability of the classifier to distinguish between classes and is used as a summary of ROC curve.  The AUC score performed well with a .80 score.\n"
   ]
  },
  {
   "cell_type": "markdown",
   "metadata": {},
   "source": [
    "## Summary of Models\n",
    "\n",
    "### Predicting a Customer Transaction with SMOTE: \n",
    "\n",
    "__Neural Net- Dropout__\n",
    "-  Score on training set:0.8884499669075012\n",
    "-  Score on testing set:0.8552250266075134\n",
    "-  Score on AUC :0.95\n",
    "\n",
    "__Neural Net- Earlystop__ \n",
    "-  Score on training set: 0.8259126543998718\n",
    "-  Score on testing set: 0.7970499992370605\n",
    "-  Score on AUC :0.80 \n"
   ]
  }
 ],
 "metadata": {
  "kernelspec": {
   "display_name": "Python 3",
   "language": "python",
   "name": "python3"
  },
  "language_info": {
   "codemirror_mode": {
    "name": "ipython",
    "version": 3
   },
   "file_extension": ".py",
   "mimetype": "text/x-python",
   "name": "python",
   "nbconvert_exporter": "python",
   "pygments_lexer": "ipython3",
   "version": "3.8.3"
  },
  "toc": {
   "base_numbering": 1,
   "nav_menu": {},
   "number_sections": true,
   "sideBar": true,
   "skip_h1_title": false,
   "title_cell": "Table of Contents",
   "title_sidebar": "Contents",
   "toc_cell": true,
   "toc_position": {},
   "toc_section_display": true,
   "toc_window_display": true
  }
 },
 "nbformat": 4,
 "nbformat_minor": 4
}
